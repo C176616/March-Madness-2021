{
 "cells": [
  {
   "cell_type": "markdown",
   "metadata": {},
   "source": [
    "# Part 4 - Stage 2 Predictions"
   ]
  },
  {
   "cell_type": "markdown",
   "metadata": {},
   "source": [
    "The purpose of this notebook is to load existing stage 2 data, create a final model, make predictions, and simulate a tournament. "
   ]
  },
  {
   "cell_type": "markdown",
   "metadata": {},
   "source": [
    "## Library Imports"
   ]
  },
  {
   "cell_type": "markdown",
   "metadata": {},
   "source": [
    "Python is an incredibly flexible language, partially due to how modular it is. We can extend its basic functionality by importanting 3rd party libraries."
   ]
  },
  {
   "cell_type": "code",
   "execution_count": 2,
   "metadata": {},
   "outputs": [],
   "source": [
    "import numpy as np\n",
    "import pandas as pd\n",
    "import os\n",
    "import matplotlib.pyplot as plt\n",
    "import seaborn as sns\n",
    "import pkg_resources\n",
    "\n",
    "from binaryTree import Node\n",
    "from PIL import Image, ImageDraw\n",
    "\n",
    "import random\n",
    "\n",
    "from sklearn.model_selection import GridSearchCV\n",
    "from sklearn import linear_model\n",
    "from sklearn.linear_model import LogisticRegression\n",
    "from sklearn.ensemble import RandomForestClassifier\n",
    "from sklearn.model_selection import train_test_split\n",
    "from sklearn.neural_network import MLPClassifier\n",
    "from sklearn.preprocessing import StandardScaler\n",
    "from sklearn.model_selection import GridSearchCV\n",
    "\n",
    "cwd = os.getcwd()"
   ]
  },
  {
   "cell_type": "markdown",
   "metadata": {},
   "source": [
    "## Train the Model"
   ]
  },
  {
   "cell_type": "code",
   "execution_count": 3,
   "metadata": {},
   "outputs": [],
   "source": [
    "training_set = pd.read_csv(\"training_set.csv\")\n",
    "training_set_stage2 = pd.read_csv(\"training_set_stage2.csv\")"
   ]
  },
  {
   "cell_type": "markdown",
   "metadata": {},
   "source": [
    "If you are unfamiliar with what these statistics are, here is a quick description\n",
    "\n",
    "Field descriptions:  \n",
    "Seed: team's seeds  \n",
    "WinPct: team's winning percentage \n",
    "PointsFor: average points scored per game  \n",
    "PointsAgainst: average points scored agains the teams  \n",
    "FGM: field goals made per game  \n",
    "FGA: field goals attempted per game  \n",
    "FGM3: 3 point fields goals made per game  \n",
    "FGA3: fields goals attempted per game  \n",
    "FTM: free throws made per game  \n",
    "FTA: free throws attempted per game  \n",
    "OR: offense rebounds per game  \n",
    "DR: defensive rebounds per game  \n",
    "Ast: assists per game  \n",
    "TO: turnovers per game  \n",
    "Stl: steals per game  \n",
    "Blk: blocks per game  \n",
    "PF: personal fouls per game  "
   ]
  },
  {
   "cell_type": "markdown",
   "metadata": {},
   "source": [
    "Select what features you want to use for the final model. All features avaiable are in blue. Add your desired features to the \"cols\" array.\n",
    "\n",
    "Remember, some features will count twice!"
   ]
  },
  {
   "cell_type": "code",
   "execution_count": 4,
   "metadata": {},
   "outputs": [
    {
     "data": {
      "text/plain": [
       "['deltaSeed', 'deltaFGM', 'deltaAst', 'deltaAst', 'deltaBlk']"
      ]
     },
     "execution_count": 4,
     "metadata": {},
     "output_type": "execute_result"
    }
   ],
   "source": [
    "# cols = ['deltaSeed', 'deltaWinPct','deltaPointsFor','deltaPointsAgainst','deltaFGM','deltaFGA','deltaFGM3','deltaFGA3','deltaFTM',\n",
    "#         'deltaFTA','deltaOR','deltaDR','deltaAst','deltaTO','deltaStl','deltaBlk','deltaPF']\n",
    "cols = ['deltaSeed', 'deltaFGM', 'deltaAst', 'deltaAst', 'deltaBlk']\n",
    "cols"
   ]
  },
  {
   "cell_type": "markdown",
   "metadata": {},
   "source": [
    "Now, define your training sets based on the cols variable"
   ]
  },
  {
   "cell_type": "code",
   "execution_count": 5,
   "metadata": {},
   "outputs": [],
   "source": [
    "X_train = training_set[cols]\n",
    "y_train = training_set['Result']"
   ]
  },
  {
   "cell_type": "markdown",
   "metadata": {},
   "source": [
    "Ok, so now we have our training set.\n",
    "The next thing you need to do is determine what model you want to use. Uncomment whichever model you would like to use. "
   ]
  },
  {
   "cell_type": "markdown",
   "metadata": {},
   "source": [
    "### Random Forest Classifier"
   ]
  },
  {
   "cell_type": "code",
   "execution_count": 6,
   "metadata": {},
   "outputs": [],
   "source": [
    "model = RandomForestClassifier(n_estimators = 10)\n",
    "model.fit(X_train, y_train)\n",
    "X_pred = training_set_stage2[cols]\n",
    "pred = model.predict_proba(X_pred)[:,1]\n",
    "training_set_stage2['Pred'] = pred"
   ]
  },
  {
   "cell_type": "markdown",
   "metadata": {},
   "source": [
    "### Linear Regression"
   ]
  },
  {
   "cell_type": "code",
   "execution_count": 43,
   "metadata": {},
   "outputs": [
    {
     "data": {
      "text/plain": [
       "LinearRegression(copy_X=True, fit_intercept=True, n_jobs=None, normalize=False)"
      ]
     },
     "execution_count": 43,
     "metadata": {},
     "output_type": "execute_result"
    }
   ],
   "source": [
    "model = linear_model.LinearRegression()\n",
    "model.fit(X_train, y_train)"
   ]
  },
  {
   "cell_type": "markdown",
   "metadata": {},
   "source": [
    "### Logistic Regression"
   ]
  },
  {
   "cell_type": "code",
   "execution_count": null,
   "metadata": {},
   "outputs": [],
   "source": [
    "model = linear_model.LogisticRegression(solver='lbfgs')\n",
    "model.fit(X_train, y_train)"
   ]
  },
  {
   "cell_type": "markdown",
   "metadata": {},
   "source": [
    "### Neural Network"
   ]
  },
  {
   "cell_type": "code",
   "execution_count": 14,
   "metadata": {},
   "outputs": [
    {
     "name": "stderr",
     "output_type": "stream",
     "text": [
      "C:\\Users\\C176616\\AppData\\Local\\Continuum\\anaconda3\\lib\\site-packages\\sklearn\\model_selection\\_split.py:1978: FutureWarning: The default value of cv will change from 3 to 5 in version 0.22. Specify it explicitly to silence this warning.\n",
      "  warnings.warn(CV_WARNING, FutureWarning)\n",
      "C:\\Users\\C176616\\AppData\\Local\\Continuum\\anaconda3\\lib\\site-packages\\sklearn\\neural_network\\multilayer_perceptron.py:566: ConvergenceWarning: Stochastic Optimizer: Maximum iterations (60) reached and the optimization hasn't converged yet.\n",
      "  % self.max_iter, ConvergenceWarning)\n"
     ]
    },
    {
     "data": {
      "text/plain": [
       "GridSearchCV(cv='warn', error_score='raise-deprecating',\n",
       "             estimator=MLPClassifier(activation='relu', alpha=0.0001,\n",
       "                                     batch_size='auto', beta_1=0.9,\n",
       "                                     beta_2=0.999, early_stopping=False,\n",
       "                                     epsilon=1e-08, hidden_layer_sizes=(100,),\n",
       "                                     learning_rate='constant',\n",
       "                                     learning_rate_init=0.001, max_iter=200,\n",
       "                                     momentum=0.9, n_iter_no_change=10,\n",
       "                                     nesterovs_momentum=True, power_t=0.5,\n",
       "                                     random_state=None, shuffle=True,\n",
       "                                     solver='adam', tol=0.0001,\n",
       "                                     validation_fraction=0.1, verbose=False,\n",
       "                                     warm_start=False),\n",
       "             iid='warn', n_jobs=-1,\n",
       "             param_grid={'hidden_layer_sizes': [5, 10, 15, 20],\n",
       "                         'max_iter': [20, 40, 60]},\n",
       "             pre_dispatch='2*n_jobs', refit=True, return_train_score=False,\n",
       "             scoring=None, verbose=0)"
      ]
     },
     "execution_count": 14,
     "metadata": {},
     "output_type": "execute_result"
    }
   ],
   "source": [
    "parameters = {'max_iter': [20,40,60], 'hidden_layer_sizes':[5,10,15,20]}\n",
    "\n",
    "scaler = StandardScaler() \n",
    "scaler.fit(X_train)\n",
    "X_train_scaled = scaler.transform(X_train)\n",
    "model = GridSearchCV(MLPClassifier(), parameters, n_jobs=-1)\n",
    "model.fit(X_train_scaled, y_train)"
   ]
  },
  {
   "cell_type": "markdown",
   "metadata": {},
   "source": [
    "## Submission - Part 1"
   ]
  },
  {
   "cell_type": "markdown",
   "metadata": {},
   "source": [
    "For the official kaggle competition, the submission file is just a game ID and the prediction (team 1 beats team 2)"
   ]
  },
  {
   "cell_type": "code",
   "execution_count": 7,
   "metadata": {},
   "outputs": [],
   "source": [
    "training_set_stage2[['ID', 'Pred']].to_csv('submission_predictions_part1.csv', index=False)"
   ]
  },
  {
   "cell_type": "markdown",
   "metadata": {},
   "source": [
    "## Submission - Part 2"
   ]
  },
  {
   "cell_type": "markdown",
   "metadata": {},
   "source": [
    "Submission.csv is the submission for the official kaggle competition, but we want to take it a step further. Now, we are will load the submisssion.csv and use that prediction data to simulate the full tournamnet, predicting a winner for each game. \n",
    "\n",
    "Run the following cell and check the SimulatedBracket.png file in the binder directory. That is your simulated bracket with a percentage score of who will win each game. "
   ]
  },
  {
   "cell_type": "code",
   "execution_count": 8,
   "metadata": {},
   "outputs": [],
   "source": [
    "# enableUpsets = False\n",
    "enableUpsets = True"
   ]
  },
  {
   "cell_type": "code",
   "execution_count": 11,
   "metadata": {},
   "outputs": [],
   "source": [
    "# Constants\n",
    "__version__ = '0.2.0'\n",
    "ID = 'id'\n",
    "PRED = 'pred'\n",
    "SEASON = 'season'\n",
    "TEAM = 'teamname'\n",
    "\n",
    "year=2019\n",
    "\n",
    "# Imports\n",
    "import os\n",
    "from binaryTree import Node\n",
    "import pandas as pd\n",
    "from PIL import Image, ImageDraw\n",
    "\n",
    "# Define Paths\n",
    "cwd = os.getcwd()\n",
    "\n",
    "outputPath= cwd + '//SimluatedBracket.png'\n",
    "teamsPath=cwd + '//data//Teams.csv'\n",
    "seedsPath=cwd + '//data//2019TourneySeeds.csv'\n",
    "slotsPath=cwd + '//data//MNCAATourneySlots.csv'\n",
    "submissionPath=cwd + '//submission_predictions_part1.csv'\n",
    "resultsPath=None\n",
    "\n",
    "slot_coordinates = {\n",
    "    2019: {1: (372, 32),# First four\n",
    "         2: (372, 50),\n",
    "         3: (30, 328),\n",
    "         4: (30, 346),\n",
    "         5: (695, 325),\n",
    "         6: (695, 343),\n",
    "         7: (370, 642),\n",
    "         8: (370, 659),\n",
    "         9:  (30, 532),# W1\n",
    "         10: (30, 514),\n",
    "         11: (30, 567),\n",
    "         12: (30, 550),\n",
    "         13: (30, 604),\n",
    "         14: (30, 586),\n",
    "         15: (30, 640),\n",
    "         16: (30, 622),\n",
    "         17: (30, 496),\n",
    "         18: (30, 478),\n",
    "         19: (30, 460),\n",
    "         20: (30, 442),\n",
    "         21: (30, 424),\n",
    "         22: (30, 406),\n",
    "         23: (30, 388),\n",
    "         24: (30, 370),\n",
    "         25: (30, 199),# X1\n",
    "         26: (30, 182),\n",
    "         27: (30, 236),\n",
    "         28: (30, 218),\n",
    "         29: (30, 272),\n",
    "         30: (30, 254),\n",
    "         31: (30, 308),\n",
    "         32: (30, 290),\n",
    "         33: (30, 164),\n",
    "         34: (30, 146),\n",
    "         35: (30, 128),\n",
    "         36: (30, 110),\n",
    "         37: (30, 92),\n",
    "         38: (30, 74),\n",
    "         39: (30, 55),\n",
    "         40: (30, 38),\n",
    "         41: (815, 532),# Y1\n",
    "         42: (815, 514),\n",
    "         43: (815, 567),\n",
    "         44: (815, 550),\n",
    "         45: (815, 604),\n",
    "         46: (815, 586),\n",
    "         47: (815, 640),\n",
    "         48: (815, 622),\n",
    "         49: (815, 496),\n",
    "         50: (815, 478),\n",
    "         51: (815, 460),\n",
    "         52: (815, 442),\n",
    "         53: (815, 424),\n",
    "         54: (815, 406),\n",
    "         55: (815, 388),\n",
    "         56: (815, 370),\n",
    "         57: (815, 199),# Z1\n",
    "         58: (815, 182),\n",
    "         59: (815, 236),\n",
    "         60: (815, 218),\n",
    "         61: (815, 272),\n",
    "         62: (815, 254),\n",
    "         63: (815, 308),\n",
    "         64: (815, 290),\n",
    "         65: (815, 164),\n",
    "         66: (815, 146),\n",
    "         67: (815, 128),\n",
    "         68: (815, 110),\n",
    "         69: (815, 92),\n",
    "         70: (815, 74),\n",
    "         71: (815, 55),\n",
    "         72: (815, 38),\n",
    "         73: (155, 523),# W2\n",
    "         74: (155, 559),\n",
    "         75: (155, 595),\n",
    "         76: (155, 631),\n",
    "         77: (155, 487),\n",
    "         78: (155, 451),\n",
    "         79: (155, 415),\n",
    "         80: (155, 379),\n",
    "         81: (155, 191),# X2\n",
    "         82: (155, 227),\n",
    "         83: (155, 263),\n",
    "         84: (155, 299),\n",
    "         85: (155, 155),\n",
    "         86: (155, 119),\n",
    "         87: (155, 83),\n",
    "         88: (155, 47),\n",
    "         89: (735, 523),# Y2\n",
    "         90: (735, 559),\n",
    "         91: (735, 595),\n",
    "         92: (735, 631),\n",
    "         93: (735, 487),\n",
    "         94: (735, 451),\n",
    "         95: (735, 415),\n",
    "         96: (735, 379),\n",
    "         97: (735, 191),# Z2\n",
    "         98: (735, 227),\n",
    "         99: (735, 263),\n",
    "         100: (735, 299),\n",
    "         101: (735, 155),\n",
    "         102: (735, 119),\n",
    "         103: (735, 83),\n",
    "         104: (735, 47),\n",
    "         105: (232, 541),# W3\n",
    "         106: (232, 613),\n",
    "         107: (232, 469),\n",
    "         108: (232, 397),\n",
    "         109: (232, 209),# X3\n",
    "         110: (232, 281),\n",
    "         111: (232, 137),\n",
    "         112: (232, 65),\n",
    "         113: (668, 541),# Y3\n",
    "         114: (668, 613),\n",
    "         115: (668, 469),\n",
    "         116: (668, 397),\n",
    "         117: (668, 209),# Z3\n",
    "         118: (668, 281),\n",
    "         119: (668, 137),\n",
    "         120: (668, 65),\n",
    "         121: (298, 576),# W4\n",
    "         122: (298, 432),\n",
    "         123: (298, 244),# X4\n",
    "         124: (298, 100),\n",
    "         125: (601, 576),# Y4\n",
    "         126: (601, 432),\n",
    "         127: (601, 244),# Z4\n",
    "         128: (601, 100),\n",
    "         129: (358, 504),# W5\n",
    "         130: (358, 172),# X5\n",
    "         131: (540, 504),# Y5\n",
    "         132: (540, 172),# Z5\n",
    "         133: (420, 457),# WX6\n",
    "         134: (435, 219),# YZ6\n",
    "         135: (435, 339)# CH\n",
    "    }\n",
    "}\n",
    "\n",
    "# Define classes and functions\n",
    "class extNode(Node):\n",
    "    def __init__(self, value, left=None, right=None, parent=None):\n",
    "        Node.__init__(self, value, left=left, right=right)\n",
    "        if parent is not None and isinstance(parent, extNode):\n",
    "            self.__setattr__('parent', parent)\n",
    "        else:\n",
    "            self.__setattr__('parent', None)\n",
    "\n",
    "    def __setattr__(self, name, value):\n",
    "        # Magically set the parent to self when a child is created\n",
    "        if (name in ['left', 'right']\n",
    "                and value is not None\n",
    "                and isinstance(value, extNode)):\n",
    "            value.parent = self\n",
    "        object.__setattr__(self, name, value)\n",
    "\n",
    "def clean_col_names(df):\n",
    "    return df.rename(columns={col: col.lower().replace('_', '') for col in df.columns})\n",
    "\n",
    "def get_team_id(seedMap):\n",
    "        return (seedMap, df[df['seed'] == seed_slot_map[seedMap]]['teamid'].values[0])\n",
    "\n",
    "def get_team_ids_and_gid(slot1, slot2):\n",
    "    team1 = get_team_id(slot1)\n",
    "    team2 = get_team_id(slot2)\n",
    "    if team2[1] < team1[1]:\n",
    "        temp = team1\n",
    "        team1 = team2\n",
    "        team2 = temp\n",
    "    gid = '{season}_{t1}_{t2}'.format(season=year, t1=team1[1], t2=team2[1])\n",
    "    return team1, team2, gid\n",
    "\n",
    "\n",
    "# initialize variables\n",
    "submit = clean_col_names(pd.read_csv(submissionPath))\n",
    "teams_df = clean_col_names(pd.read_csv(teamsPath))\n",
    "seeds_df = clean_col_names(pd.read_csv(seedsPath))\n",
    "slots_df = clean_col_names(pd.read_csv(slotsPath))\n",
    "\n",
    "df = seeds_df.merge(teams_df, left_on='teamid', right_on='teamid')\n",
    "\n",
    "df = df.drop(['firstd1season','lastd1season'], axis=1)\n",
    "\n",
    "s = slots_df[slots_df['season'] == year]\n",
    "seed_slot_map = {0: 'R6CH'}\n",
    "bkt = extNode(0)\n",
    "\n",
    "# Begin by creating an empty tournament bracket using the modified binary tree class defined above. populate\n",
    "# The initial games using seed slot data\n",
    "counter = 1\n",
    "current_nodes = [bkt]\n",
    "current_id = -1\n",
    "current_index = 0\n",
    "\n",
    "while current_nodes:\n",
    "    next_nodes = []\n",
    "    current_index = 0\n",
    "    while current_index < len(current_nodes):\n",
    "        node = current_nodes[current_index]\n",
    "        if len(s[s['slot'] == seed_slot_map[node.value]].index) > 0:\n",
    "            node.left = extNode(counter)\n",
    "            node.right = extNode(counter + 1)\n",
    "            seed_slot_map[counter] = s[s['slot'] == seed_slot_map[node.value]].values[0][2]\n",
    "            seed_slot_map[counter + 1] = s[s['slot'] == seed_slot_map[node.value]].values[0][3]\n",
    "            next_nodes.append(node.left)\n",
    "            next_nodes.append(node.right)\n",
    "            counter += 2\n",
    "        current_index += 1\n",
    "        current_id += 1\n",
    "    current_nodes = next_nodes\n",
    "    \n",
    "# Create a results dataframe     \n",
    "results_df = pd.DataFrame({\"id\": [], \"pred\": []})\n",
    "   \n",
    "# initialize a predictions map. This will be used \n",
    "pred_map = {}\n",
    "\n",
    "## Simulate the Tournament #############################\n",
    "# Cycle through each round of the tournament\n",
    "for level in list(reversed(bkt.levels)):    \n",
    "    # cycle through each game of the round\n",
    "    for ix, node in enumerate(level[0: len(level) // 2]):\n",
    "        # extract teams and id's \n",
    "        team1, team2, gid = get_team_ids_and_gid(level[ix * 2].value, level[ix * 2 + 1].value)\n",
    "        # lookup the prediction result from the submission values\n",
    "        pred = submit[submit['id'] == gid]['pred'].values[0]\n",
    "        # if the value is in the list of predictions (they all should)\n",
    "        if gid in list(results_df.id):\n",
    "            # \n",
    "            game_outcome = results_df[results_df[ID] == gid][PRED].values[0]\n",
    "            \n",
    "            # this is determining the prediction percent label only. Not the logic of who wins the match\n",
    "            team = team1 if game_outcome == 1 else team2\n",
    "            if (game_outcome == 1 and pred > 0.5):\n",
    "                # outcome agress with prediction, team1 wins\n",
    "                pred_label = pred\n",
    "            elif (game_outcome == 0 and pred > 0.5):\n",
    "                # outcome different than prediction, team2 wins\n",
    "                pred_label = 1 - pred\n",
    "            elif (game_outcome == 0 and pred <= 0.5):\n",
    "                # outcome agrees with prediction, team2 wins\n",
    "                pred_label = 1 - pred\n",
    "            elif (game_outcome == 1 and pred <= 0.5):\n",
    "                # outcome different than prediction, team2 wins\n",
    "                pred_label = pred\n",
    "            else:\n",
    "                raise ValueError(\"team not found\")\n",
    "\n",
    "        # This assigns the winner based on prediction       \n",
    "        \n",
    "        #If upsets are enabled ##################################\n",
    "        if enableUpsets == True:\n",
    "            randNumber = random.random()\n",
    "        \n",
    "            if randNumber <= pred:\n",
    "                team = team1\n",
    "                pred_label = pred\n",
    "            else:\n",
    "                team = team2\n",
    "                pred_label = 1 - pred\n",
    "            \n",
    "        # No Upsets #############################################\n",
    "        if enableUpsets == False:\n",
    "            if pred >= 0.5:\n",
    "                team = team1\n",
    "                pred_label = pred\n",
    "            else:\n",
    "                team = team2\n",
    "                pred_label = 1 - pred\n",
    "        # Set the winner to the next game\n",
    "        level[ix * 2].parent.value = team[0]\n",
    "        # record the winner and slot information in the prediction map\n",
    "        pred_map[gid] = (team[0], seed_slot_map[team[0]], pred_label)\n",
    "\n",
    "\n",
    "## Draw the bracket ##################################\n",
    "slotdata = []\n",
    "# cycle through the binary tree\n",
    "for ix, key in enumerate([b for a in bkt.levels for b in a]):\n",
    "    xy = slot_coordinates[2019][max(slot_coordinates[2019].keys()) - ix]\n",
    "    pred = ''\n",
    "    gid = ''\n",
    "    if key.parent is not None:\n",
    "        team1, team2, gid = get_team_ids_and_gid(key.parent.left.value, key.parent.right.value)\n",
    "    \n",
    "    # Format the predicted value by looking it up in the pred_map\n",
    "    if gid != '' and pred_map[gid][1] == seed_slot_map[key.value]:\n",
    "        pred = \"{:.2f}%\".format(pred_map[gid][2] * 100)\n",
    "    \n",
    "    # Format the string to be written on the image\n",
    "    st = '{teamid} {teamname} {pred_label}'.format(\n",
    "        teamid=df[df['seed'] == seed_slot_map[key.value]]['teamid'].values[0],\n",
    "        teamname=df[df['seed'] == seed_slot_map[key.value]]['teamname'].values[0],\n",
    "        pred_label = pred\n",
    "    )\n",
    "    \n",
    "    # Append the string value to the slotdata submission csv file\n",
    "    slotdata.append((xy, st, key.value))\n",
    "\n",
    "# open the image file and draw a blank tournament bracket\n",
    "img = Image.open('2019.jpg')\n",
    "draw = ImageDraw.Draw(img)\n",
    "\n",
    "# cycle through the simulated tournament and plot the formatted string in the proper location on the bracket image\n",
    "for slot in slotdata:\n",
    "    draw.text(slot[0], str(slot[1]), (0, 0, 0))\n",
    "\n",
    "# save the bracket image\n",
    "img.save(outputPath)\n",
    "\n",
    "\n",
    "predictionsCSV= []\n",
    "for slot in slotdata:\n",
    "    predictionsCSV.append([slot[0],str(slot[1]), slot[2]])\n",
    "    \n",
    "\n",
    "df = pd.DataFrame(predictionsCSV)\n",
    "df.columns = ['Coordinates', 'Predicted Team', 'Index']\n",
    "df.to_csv('submission_bracket_part2.csv')"
   ]
  },
  {
   "cell_type": "code",
   "execution_count": null,
   "metadata": {},
   "outputs": [],
   "source": []
  }
 ],
 "metadata": {
  "kernelspec": {
   "display_name": "Python 3",
   "language": "python",
   "name": "python3"
  },
  "language_info": {
   "codemirror_mode": {
    "name": "ipython",
    "version": 3
   },
   "file_extension": ".py",
   "mimetype": "text/x-python",
   "name": "python",
   "nbconvert_exporter": "python",
   "pygments_lexer": "ipython3",
   "version": "3.7.4"
  }
 },
 "nbformat": 4,
 "nbformat_minor": 2
}
